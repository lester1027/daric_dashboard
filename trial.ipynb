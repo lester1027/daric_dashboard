{
 "nbformat": 4,
 "nbformat_minor": 2,
 "metadata": {
  "language_info": {
   "name": "python",
   "codemirror_mode": {
    "name": "ipython",
    "version": 3
   },
   "version": "3.6.9-final"
  },
  "orig_nbformat": 2,
  "file_extension": ".py",
  "mimetype": "text/x-python",
  "name": "python",
  "npconvert_exporter": "python",
  "pygments_lexer": "ipython3",
  "version": 3,
  "kernelspec": {
   "name": "python36964bitdashboardconda3a676a382301409f8cad38114c1f2f8d",
   "display_name": "Python 3.6.9 64-bit ('dashboard': conda)"
  }
 },
 "cells": [
  {
   "cell_type": "code",
   "execution_count": 33,
   "metadata": {},
   "outputs": [],
   "source": [
    "import dash\n",
    "import dash_core_components as dcc\n",
    "import dash_html_components as html\n",
    "import dash_table\n",
    "from dash.dependencies import Input, Output, State\n",
    "import plotly.graph_objs as go\n",
    "import requests\n",
    "import numpy as np\n",
    "import pandas as pd\n",
    "from datetime import datetime"
   ]
  },
  {
   "cell_type": "code",
   "execution_count": 34,
   "metadata": {},
   "outputs": [
    {
     "name": "stdout",
     "output_type": "stream",
     "text": "* Serving Flask app \"__main__\" (lazy loading)\n * Environment: production\n   WARNING: This is a development server. Do not use it in a production deployment.\n   Use a production WSGI server instead.\n * Debug mode: off\n * Running on http://127.0.0.1:8050/ (Press CTRL+C to quit)\n127.0.0.1 - - [16/Jan/2020 11:20:21] \"GET / HTTP/1.1\" 200 -\n127.0.0.1 - - [16/Jan/2020 11:20:22] \"GET /_dash-layout HTTP/1.1\" 200 -\n127.0.0.1 - - [16/Jan/2020 11:20:22] \"GET /_dash-dependencies HTTP/1.1\" 200 -\n127.0.0.1 - - [16/Jan/2020 11:20:22] \"GET /_favicon.ico?v=1.7.0 HTTP/1.1\" 200 -\n127.0.0.1 - - [16/Jan/2020 11:20:22] \"POST /_dash-update-component HTTP/1.1\" 200 -\n127.0.0.1 - - [16/Jan/2020 11:20:29] \"POST /_dash-update-component HTTP/1.1\" 200 -\ndatatime 0 / clicktime 1579144829713 / rows None\n127.0.0.1 - - [16/Jan/2020 11:20:31] \"POST /_dash-update-component HTTP/1.1\" 200 -\ndatatime 0 / clicktime 1579144831033 / rows None\n127.0.0.1 - - [16/Jan/2020 11:20:31] \"POST /_dash-update-component HTTP/1.1\" 200 -\ndatatime 0 / clicktime 1579144831397 / rows None\n127.0.0.1 - - [16/Jan/2020 11:20:31] \"POST /_dash-update-component HTTP/1.1\" 200 -\ndatatime 0 / clicktime 1579144831695 / rows None\n127.0.0.1 - - [16/Jan/2020 11:20:31] \"POST /_dash-update-component HTTP/1.1\" 200 -\ndatatime 0 / clicktime 1579144831955 / rows None\n"
    }
   ],
   "source": [
    "app = dash.Dash()\n",
    "\n",
    "params = [\n",
    "    'Weight', 'Torque', 'Width', 'Height',\n",
    "    'Efficiency', 'Power', 'Displacement'\n",
    "]\n",
    "\n",
    "app.layout = html.Div([\n",
    "    dash_table.DataTable(\n",
    "        id='table-editing-simple',\n",
    "        data_timestamp=0,\n",
    "        columns=[{'id': 'col{}'.format(i), 'name': 'col{}'.format(i)} for i in range(4)],\n",
    "        data=[{'col1':j} for j in range(10)],\n",
    "        editable=True\n",
    "    ),\n",
    "\n",
    "    html.Div([\n",
    "      html.Button(\n",
    "        id='button',\n",
    "        children='Button',\n",
    "        n_clicks_timestamp=0\n",
    "      )\n",
    "\n",
    "    ])\n",
    "])\n",
    "\n",
    "\n",
    "@app.callback(\n",
    "    Output('table-editing-simple', 'data'),\n",
    "    [Input('table-editing-simple','data_timestamp'),\n",
    "    Input('button','n_clicks_timestamp')],\n",
    "    [State('table-editing-simple','data')])\n",
    "def display_output(data_timestamp,n_clicks_timestamp,rows):\n",
    "    try:\n",
    "        if n_clicks_timestamp>data_timestamp:\n",
    "            for row in rows:\n",
    "                row['col1']=111\n",
    "            return rows\n",
    "        elif data_timestamp>n_clicks_timestamp:\n",
    "            for row in rows:\n",
    "                row['col2']=222\n",
    "            return rows  \n",
    "    except TypeError:\n",
    "        print(f'datatime {data_timestamp} / clicktime {n_clicks_timestamp} / rows {rows}')\n",
    "\n",
    "if __name__ == '__main__':\n",
    "    app.run_server()"
   ]
  },
  {
   "cell_type": "code",
   "execution_count": null,
   "metadata": {},
   "outputs": [],
   "source": []
  }
 ]
}